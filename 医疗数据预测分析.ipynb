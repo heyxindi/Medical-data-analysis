{
 "cells": [
  {
   "cell_type": "markdown",
   "metadata": {},
   "source": [
    "# 基于XGboost算法构建IS复发预测模型"
   ]
  },
  {
   "cell_type": "markdown",
   "metadata": {},
   "source": [
    "### 导入模块"
   ]
  },
  {
   "cell_type": "code",
   "execution_count": 1,
   "metadata": {},
   "outputs": [],
   "source": [
    "import pandas as pd # data processing, CSV file I/O (e.g. pd.read_csv)\n",
    "from sklearn.preprocessing import StandardScaler\n",
    "from sklearn import metrics\n",
    "from sklearn.metrics import confusion_matrix, classification_report\n",
    "import scipy.stats as st\n",
    "\n",
    "import matplotlib.pyplot as plt\n",
    "import numpy as np\n",
    "from sklearn.model_selection import RandomizedSearchCV\n",
    "from sklearn.model_selection import train_test_split, GridSearchCV, cross_val_score\n",
    "from sklearn.linear_model import LogisticRegression\n",
    "from sklearn.ensemble import RandomForestClassifier\n",
    "from sklearn.neighbors import KNeighborsClassifier\n",
    "from sklearn.svm import SVC,SVR\n",
    "#from xgboost.sklearn import XGBClassifier\n",
    "from sklearn.neural_network import MLPClassifier\n",
    "import xgboost as xgb\n",
    "from scipy.stats import randint as sp_randint\n",
    "import scipy.stats as stats\n",
    "from xgboost.sklearn import XGBClassifier"
   ]
  },
  {
   "cell_type": "markdown",
   "metadata": {},
   "source": [
    "### 读取数据集"
   ]
  },
  {
   "cell_type": "code",
   "execution_count": 2,
   "metadata": {},
   "outputs": [
    {
     "name": "stdout",
     "output_type": "stream",
     "text": [
      "----------------------------start------------------------\n",
      " \n",
      "   peptic ulcer  high pressure  Low pressure  suger  Uric acid  Triglycerides  \\\n",
      "0             0            156            69    8.8      351.0           1.58   \n",
      "1             0            128            64    4.9      351.0           1.58   \n",
      "2             0            155            95    6.8      351.0           1.58   \n",
      "3             0            101            70    9.2      351.0           1.58   \n",
      "4             0            152            90    5.9      351.0           1.58   \n",
      "\n",
      "   cholesterol   HDL   LDL  Amino acid  Reactive protein  Serum protein  \\\n",
      "0         4.68  1.31  3.07       10.38              9.91           40.3   \n",
      "1         4.68  1.31  3.07       10.38              9.91           37.6   \n",
      "2         4.68  1.31  3.07       19.70             24.66           36.3   \n",
      "3         4.68  1.31  3.07       10.38              9.91           40.3   \n",
      "4         4.68  1.31  3.07       10.38              9.91           40.3   \n",
      "\n",
      "   proteina  proteinb  Neutrophil  Fibrin  Hemoglobin  threeMonRecurResult  \n",
      "0      1.09      0.99        65.2    3.18         5.9                    0  \n",
      "1      1.09      0.99        65.2    3.18         5.9                    0  \n",
      "2      0.94      0.99        65.2    3.18         6.3                    0  \n",
      "3      1.09      0.99        65.2    3.18         6.3                    0  \n",
      "4      1.09      0.99        65.2    3.18         6.3                    0  \n",
      " \n",
      "-----------------------------------------------------------\n",
      " \n",
      "   peptic ulcer  high pressure  Low pressure  suger  Uric acid  Triglycerides  \\\n",
      "0             0            138            92    8.6        815           1.58   \n",
      "1             0            132            86    5.5        381           1.31   \n",
      "2             0            173            91    7.0        456           5.32   \n",
      "3             0            154            74   11.2        351           1.58   \n",
      "4             0            160            98    5.6        484           1.71   \n",
      "\n",
      "   cholesterol   HDL   LDL  Amino acid  Reactive protein  Serum protein  \\\n",
      "0         6.66  1.31  4.70        10.4               9.9           40.3   \n",
      "1         4.81  1.40  3.01        10.5               9.9           43.1   \n",
      "2         6.53  0.91  2.95         9.7               9.9           39.5   \n",
      "3         4.68  1.31  3.40        10.4               9.9           40.3   \n",
      "4         5.95  1.10  4.50         8.6               9.9           44.1   \n",
      "\n",
      "   proteina  proteinb  Neutrophil  Fibrin  Hemoglobin  threeMonRecurResult  \n",
      "0      1.09      0.99        65.2    3.18         6.3                    0  \n",
      "1      1.16      1.00        59.4    2.72         5.3                    0  \n",
      "2      1.02      1.29        65.2    3.94         6.3                    0  \n",
      "3      1.16      1.11        65.2    3.18         6.6                    0  \n",
      "4      1.09      1.38        65.2    2.49         6.2                    0  \n"
     ]
    }
   ],
   "source": [
    "import os\n",
    "\n",
    "os.environ[\"CUDA_VISIBLE_DEVICES\"] = \"0\"\n",
    "\n",
    "print(\"----------------------------start------------------------\")\n",
    "print(\" \")\n",
    "# training set(1499 data)\n",
    "dataset_url = '缺血性脑卒中数据表.xlsx'\n",
    "data = pd.read_excel(dataset_url)\n",
    "print(data.head(5))\n",
    "print(\" \")\n",
    "print(\"-----------------------------------------------------------\")\n",
    "print(\" \")\n",
    "# test set (100 data without R)\n",
    "dataset_url = '缺血性脑卒中数据表test.xlsx'\n",
    "testdata = pd.read_excel(dataset_url)\n",
    "print(testdata.head(5))"
   ]
  },
  {
   "cell_type": "markdown",
   "metadata": {},
   "source": [
    "##  数据预处理\n",
    "### 读取特征列"
   ]
  },
  {
   "cell_type": "code",
   "execution_count": 3,
   "metadata": {},
   "outputs": [],
   "source": [
    "# get data's features and labels\n",
    "X = data.drop('threeMonRecurResult',axis = 1)\n",
    "y = data.threeMonRecurResult"
   ]
  },
  {
   "cell_type": "markdown",
   "metadata": {},
   "source": [
    "### 样本划分"
   ]
  },
  {
   "cell_type": "code",
   "execution_count": 4,
   "metadata": {
    "scrolled": false
   },
   "outputs": [
    {
     "name": "stdout",
     "output_type": "stream",
     "text": [
      "训练集：\n",
      "The shape of X_train: (1301, 17)\n",
      "The shape of X_test: (434, 17)\n",
      "The shape of y_train: (1301,)\n",
      "The shape of y_test: (434,)\n",
      "测试集：\n",
      "The shape of X_final_test: (21, 17)\n",
      "The shape of y_final_test: (21,)\n"
     ]
    }
   ],
   "source": [
    "# divide into training set and test set randomly\n",
    "X_train,X_test,y_train,y_test = train_test_split(X,y,test_size=0.25,random_state=13)\n",
    "# this is the test set (100 data without Ranking)\n",
    "X_final_test = testdata.drop('threeMonRecurResult',axis = 1)\n",
    "y_final_test = testdata.threeMonRecurResult\n",
    "print(\"训练集：\")\n",
    "print(\"The shape of X_train:\",X_train.shape)\n",
    "print(\"The shape of X_test:\",X_test.shape)\n",
    "print(\"The shape of y_train:\",y_train.shape)\n",
    "print(\"The shape of y_test:\",y_test.shape)\n",
    "print(\"测试集：\")\n",
    "print(\"The shape of X_final_test:\",X_final_test.shape)\n",
    "print(\"The shape of y_final_test:\",y_final_test.shape)"
   ]
  },
  {
   "cell_type": "markdown",
   "metadata": {},
   "source": [
    "#### 求得训练集X的均值，方差，最大值，最小值,这些训练集X固有的属性；在fit的基础上，进行标准化"
   ]
  },
  {
   "cell_type": "code",
   "execution_count": 5,
   "metadata": {},
   "outputs": [],
   "source": [
    "# data standardization(similar to mean normalization)\n",
    "sc = StandardScaler()\n",
    "X_train = sc.fit_transform(X_train)\n",
    "X_test = sc.fit_transform(X_test)\n",
    "X_final_test = sc.fit_transform(X_final_test)"
   ]
  },
  {
   "cell_type": "markdown",
   "metadata": {},
   "source": [
    "### 模型构建及训练"
   ]
  },
  {
   "cell_type": "code",
   "execution_count": 6,
   "metadata": {
    "scrolled": true
   },
   "outputs": [
    {
     "name": "stdout",
     "output_type": "stream",
     "text": [
      "[15:39:19] WARNING: C:\\Users\\Administrator\\workspace\\xgboost-win64_release_1.1.0\\src\\learner.cc:480: \n",
      "Parameters: { scale_pos_weight } might not be used.\n",
      "\n",
      "  This may not be accurate due to some parameters are only used in language bindings but\n",
      "  passed down to XGBoost core.  Or some parameters are not used but slip through this\n",
      "  verification. Please open an issue if you find above cases.\n",
      "\n",
      "\n",
      "              precision    recall  f1-score   support\n",
      "\n",
      "           0       0.99      1.00      0.99       428\n",
      "           1       0.00      0.00      0.00         6\n",
      "\n",
      "    accuracy                           0.99       434\n",
      "   macro avg       0.49      0.50      0.50       434\n",
      "weighted avg       0.97      0.99      0.98       434\n",
      "\n",
      "0.9861751152073732\n",
      "预测结果：\n",
      "[0 0 0 0 0 0 0 0 0 0 0 0 0 0 0 0 0 0 0 0 0]\n"
     ]
    },
    {
     "name": "stderr",
     "output_type": "stream",
     "text": [
      "D:\\Anaconda3\\lib\\site-packages\\sklearn\\metrics\\classification.py:1437: UndefinedMetricWarning: Precision and F-score are ill-defined and being set to 0.0 in labels with no predicted samples.\n",
      "  'precision', 'predicted', average, warn_for)\n"
     ]
    }
   ],
   "source": [
    "# Xgboost训练过程\n",
    "model = XGBClassifier(learning_rate =0.001, n_estimators=100, max_depth=10,min_child_weight=1,\n",
    "                 gamma=0, subsample=0.5, colsample_bytree=0.6,objective= 'multi:softmax',num_class = 5,nthread=4, scale_pos_weight=1)\n",
    "model.fit(X_train, y_train)\n",
    "\n",
    "# 对测试集进行预测\n",
    "xgb_t = model.predict(X_test)\n",
    "print(classification_report(y_test, xgb_t))\n",
    "print(model.score(X_test,y_test))\n",
    "xgb_as = metrics.accuracy_score(y_test,xgb_t)\n",
    "\n",
    "print(\"预测结果：\")\n",
    "final_test_pre = model.predict(X_final_test)\n",
    "print(final_test_pre)"
   ]
  },
  {
   "cell_type": "markdown",
   "metadata": {},
   "source": [
    "## 评价指标"
   ]
  },
  {
   "cell_type": "markdown",
   "metadata": {},
   "source": [
    "### AUROC及准确率"
   ]
  },
  {
   "cell_type": "code",
   "execution_count": 7,
   "metadata": {},
   "outputs": [
    {
     "name": "stdout",
     "output_type": "stream",
     "text": [
      "accuracy:99%\n",
      "The AUROC= 0.5\n"
     ]
    }
   ],
   "source": [
    "from sklearn.metrics import roc_auc_score\n",
    "from sklearn.metrics import accuracy_score\n",
    "#计算准确率\n",
    "y_pred = model.predict(X_test)\n",
    "accuracy = accuracy_score(y_test,y_pred)\n",
    "print('accuracy:%2.f%%'%(accuracy*100))\n",
    "\n",
    "# 输出AUROC的值\n",
    "roc=roc_auc_score(y_test,y_pred)\n",
    "print(\"The AUROC=\",roc)\n",
    "\n",
    "# # 显示重要特征\n",
    "# plot_importance(model)\n",
    "# plt.show()"
   ]
  },
  {
   "cell_type": "markdown",
   "metadata": {},
   "source": [
    "### 灵敏度及特异度"
   ]
  },
  {
   "cell_type": "code",
   "execution_count": 12,
   "metadata": {},
   "outputs": [
    {
     "name": "stdout",
     "output_type": "stream",
     "text": [
      "Confusion Matrix : \n",
      " [[428   0]\n",
      " [  6   0]]\n",
      "Accuracy :  0.9861751152073732\n",
      "Sensitivity :  1.0\n",
      "Specificity :  0.0\n"
     ]
    }
   ],
   "source": [
    "# https://statinfer.com/204-4-2-calculating-sensitivity-and-specificity-in-python/\n",
    "# Confusion matrix, Accuracy, sensitivity and specificity\n",
    "from sklearn.metrics import confusion_matrix\n",
    "\n",
    "cm1 = confusion_matrix(y_test,y_pred)\n",
    "print('Confusion Matrix : \\n', cm1)\n",
    "\n",
    "total1=sum(sum(cm1))\n",
    "#####from confusion matrix calculate accuracy\n",
    "accuracy1=(cm1[0,0]+cm1[1,1])/total1\n",
    "print ('Accuracy : ', accuracy1)\n",
    "\n",
    "sensitivity1 = cm1[0,0]/(cm1[0,0]+cm1[0,1])\n",
    "print('Sensitivity : ', sensitivity1 )\n",
    "\n",
    "specificity1 = cm1[1,1]/(cm1[1,0]+cm1[1,1])\n",
    "print('Specificity : ', specificity1)"
   ]
  },
  {
   "cell_type": "markdown",
   "metadata": {},
   "source": [
    "### 重要特征排序"
   ]
  },
  {
   "cell_type": "code",
   "execution_count": 8,
   "metadata": {
    "scrolled": false
   },
   "outputs": [
    {
     "name": "stdout",
     "output_type": "stream",
     "text": [
      "[15:39:19] WARNING: C:\\Users\\Administrator\\workspace\\xgboost-win64_release_1.1.0\\src\\learner.cc:480: \n",
      "Parameters: { silent } might not be used.\n",
      "\n",
      "  This may not be accurate due to some parameters are only used in language bindings but\n",
      "  passed down to XGBoost core.  Or some parameters are not used but slip through this\n",
      "  verification. Please open an issue if you find above cases.\n",
      "\n",
      "\n"
     ]
    },
    {
     "data": {
      "image/png": "[encoded data removed]",
      "text/plain": [
       "<Figure size 432x288 with 1 Axes>"
      ]
     },
     "metadata": {
      "needs_background": "light"
     },
     "output_type": "display_data"
    }
   ],
   "source": [
    "from xgboost import plot_importance\n",
    "\n",
    "feature_name_list = ['peptic ulcer','high pressure','low pressure','suger','Uric acid','Triglycerides','cholesterol','HDL','LDL','Amino acid','Reactive protein','Serum protein','proteina','proteinb','Neutrophil','Fibrin','Hemoglobin']\n",
    "dtrain = xgb.DMatrix(X, label=y, feature_names=feature_name_list)\n",
    "param = {}\n",
    "# use softmax multi-class classification\n",
    "param['objective'] = 'multi:softmax'\n",
    "# scale weight of positive examples\n",
    "param['eta'] = 0.1\n",
    "param['max_depth'] = 6\n",
    "param['silent'] = 1\n",
    "param['nthread'] = 4\n",
    "param['num_class'] = 9\n",
    "model = xgb.train(param, dtrain)\n",
    "plot_importance(model)\n",
    "\n",
    "plt.show()"
   ]
  },
  {
   "cell_type": "code",
   "execution_count": null,
   "metadata": {},
   "outputs": [],
   "source": []
  }
 ],
 "metadata": {
  "kernelspec": {
   "display_name": "Python 3",
   "language": "python",
   "name": "python3"
  },
  "language_info": {
   "codemirror_mode": {
    "name": "ipython",
    "version": 3
   },
   "file_extension": ".py",
   "mimetype": "text/x-python",
   "name": "python",
   "nbconvert_exporter": "python",
   "pygments_lexer": "ipython3",
   "version": "3.7.4"
  }
 },
 "nbformat": 4,
 "nbformat_minor": 2
}
